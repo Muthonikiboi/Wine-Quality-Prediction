{
 "cells": [
  {
   "cell_type": "markdown",
   "id": "4d082a84",
   "metadata": {},
   "source": [
    "# 1.BUSINESS UNDERSTANDING"
   ]
  },
  {
   "cell_type": "markdown",
   "id": "12011682",
   "metadata": {},
   "source": [
    "\"A wine manufacturing company wants to automate its quality control process to help in reducing manual errors and increase consistency in wine grading in terms of quality. They aim to develop a predictive model that classifies wines into 'high quality' or 'low quality' sections based on provided features and chemical properties to optimize production, marketing and pricing strategies.\"\n",
    "\n",
    "\n",
    "1. Identify the all the main chemical properties that influence wine quality.\n",
    "\n",
    "2. Build a classification model to categorize wine into quality labels (0:low or 1:high)\n",
    "\n",
    "\n",
    "3. Determine the role wine type (in red or white) plays in wine quality.\n",
    "\n",
    "4. Compare different model performances"
   ]
  },
  {
   "cell_type": "markdown",
   "id": "614c45b2",
   "metadata": {},
   "source": [
    "# 2.DATA UNDERSTANDING"
   ]
  },
  {
   "cell_type": "code",
   "execution_count": 807,
   "id": "b53a192c",
   "metadata": {},
   "outputs": [],
   "source": [
    "# Imports\n",
    "import numpy as np\n",
    "import pandas as pd\n",
    "import seaborn as sns\n",
    "import statsmodels.api as sm\n",
    "import matplotlib.pyplot as plt\n",
    "\n",
    "\n",
    "from collections import Counter\n",
    "from imblearn.over_sampling import SMOTE\n",
    "from sklearn.preprocessing import MinMaxScaler\n",
    "from sklearn.tree import DecisionTreeClassifier\n",
    "from sklearn.preprocessing import StandardScaler\n",
    "from statsmodels.tools.tools import add_constant\n",
    "from sklearn.model_selection import train_test_split\n",
    "from sklearn.ensemble import GradientBoostingClassifier\n",
    "from sklearn.linear_model import Ridge, Lasso, LogisticRegression\n",
    "from sklearn.metrics import classification_report, confusion_matrix\n",
    "from statsmodels.stats.outliers_influence import variance_inflation_factor\n",
    "from sklearn.metrics import mean_squared_error,roc_auc_score, roc_curve, auc\n",
    "\n",
    "# Hiding warnings \n",
    "import warnings\n",
    "warnings.filterwarnings(\"ignore\")"
   ]
  },
  {
   "cell_type": "code",
   "execution_count": 756,
   "id": "393b28bf",
   "metadata": {},
   "outputs": [
    {
     "data": {
      "text/html": [
       "<div>\n",
       "<style scoped>\n",
       "    .dataframe tbody tr th:only-of-type {\n",
       "        vertical-align: middle;\n",
       "    }\n",
       "\n",
       "    .dataframe tbody tr th {\n",
       "        vertical-align: top;\n",
       "    }\n",
       "\n",
       "    .dataframe thead th {\n",
       "        text-align: right;\n",
       "    }\n",
       "</style>\n",
       "<table border=\"1\" class=\"dataframe\">\n",
       "  <thead>\n",
       "    <tr style=\"text-align: right;\">\n",
       "      <th></th>\n",
       "      <th>type</th>\n",
       "      <th>fixed acidity</th>\n",
       "      <th>volatile acidity</th>\n",
       "      <th>citric acid</th>\n",
       "      <th>residual sugar</th>\n",
       "      <th>chlorides</th>\n",
       "      <th>free sulfur dioxide</th>\n",
       "      <th>total sulfur dioxide</th>\n",
       "      <th>density</th>\n",
       "      <th>pH</th>\n",
       "      <th>sulphates</th>\n",
       "      <th>alcohol</th>\n",
       "      <th>quality</th>\n",
       "    </tr>\n",
       "  </thead>\n",
       "  <tbody>\n",
       "    <tr>\n",
       "      <th>0</th>\n",
       "      <td>white</td>\n",
       "      <td>7.0</td>\n",
       "      <td>0.27</td>\n",
       "      <td>0.36</td>\n",
       "      <td>20.7</td>\n",
       "      <td>0.045</td>\n",
       "      <td>45.0</td>\n",
       "      <td>170.0</td>\n",
       "      <td>1.0010</td>\n",
       "      <td>3.00</td>\n",
       "      <td>0.45</td>\n",
       "      <td>8.8</td>\n",
       "      <td>6</td>\n",
       "    </tr>\n",
       "    <tr>\n",
       "      <th>1</th>\n",
       "      <td>white</td>\n",
       "      <td>6.3</td>\n",
       "      <td>0.30</td>\n",
       "      <td>0.34</td>\n",
       "      <td>1.6</td>\n",
       "      <td>0.049</td>\n",
       "      <td>14.0</td>\n",
       "      <td>132.0</td>\n",
       "      <td>0.9940</td>\n",
       "      <td>3.30</td>\n",
       "      <td>0.49</td>\n",
       "      <td>9.5</td>\n",
       "      <td>6</td>\n",
       "    </tr>\n",
       "    <tr>\n",
       "      <th>2</th>\n",
       "      <td>white</td>\n",
       "      <td>8.1</td>\n",
       "      <td>0.28</td>\n",
       "      <td>0.40</td>\n",
       "      <td>6.9</td>\n",
       "      <td>0.050</td>\n",
       "      <td>30.0</td>\n",
       "      <td>97.0</td>\n",
       "      <td>0.9951</td>\n",
       "      <td>3.26</td>\n",
       "      <td>0.44</td>\n",
       "      <td>10.1</td>\n",
       "      <td>6</td>\n",
       "    </tr>\n",
       "    <tr>\n",
       "      <th>3</th>\n",
       "      <td>white</td>\n",
       "      <td>7.2</td>\n",
       "      <td>0.23</td>\n",
       "      <td>0.32</td>\n",
       "      <td>8.5</td>\n",
       "      <td>0.058</td>\n",
       "      <td>47.0</td>\n",
       "      <td>186.0</td>\n",
       "      <td>0.9956</td>\n",
       "      <td>3.19</td>\n",
       "      <td>0.40</td>\n",
       "      <td>9.9</td>\n",
       "      <td>6</td>\n",
       "    </tr>\n",
       "    <tr>\n",
       "      <th>4</th>\n",
       "      <td>white</td>\n",
       "      <td>7.2</td>\n",
       "      <td>0.23</td>\n",
       "      <td>0.32</td>\n",
       "      <td>8.5</td>\n",
       "      <td>0.058</td>\n",
       "      <td>47.0</td>\n",
       "      <td>186.0</td>\n",
       "      <td>0.9956</td>\n",
       "      <td>3.19</td>\n",
       "      <td>0.40</td>\n",
       "      <td>9.9</td>\n",
       "      <td>6</td>\n",
       "    </tr>\n",
       "  </tbody>\n",
       "</table>\n",
       "</div>"
      ],
      "text/plain": [
       "    type  fixed acidity  volatile acidity  citric acid  residual sugar  \\\n",
       "0  white            7.0              0.27         0.36            20.7   \n",
       "1  white            6.3              0.30         0.34             1.6   \n",
       "2  white            8.1              0.28         0.40             6.9   \n",
       "3  white            7.2              0.23         0.32             8.5   \n",
       "4  white            7.2              0.23         0.32             8.5   \n",
       "\n",
       "   chlorides  free sulfur dioxide  total sulfur dioxide  density    pH  \\\n",
       "0      0.045                 45.0                 170.0   1.0010  3.00   \n",
       "1      0.049                 14.0                 132.0   0.9940  3.30   \n",
       "2      0.050                 30.0                  97.0   0.9951  3.26   \n",
       "3      0.058                 47.0                 186.0   0.9956  3.19   \n",
       "4      0.058                 47.0                 186.0   0.9956  3.19   \n",
       "\n",
       "   sulphates  alcohol  quality  \n",
       "0       0.45      8.8        6  \n",
       "1       0.49      9.5        6  \n",
       "2       0.44     10.1        6  \n",
       "3       0.40      9.9        6  \n",
       "4       0.40      9.9        6  "
      ]
     },
     "execution_count": 756,
     "metadata": {},
     "output_type": "execute_result"
    }
   ],
   "source": [
    "# Load the dataset\n",
    "def load_Dataset(path):\n",
    "  df = pd.read_csv(path)\n",
    "  return df\n",
    "\n",
    "# Load the dataset and display the first five columns\n",
    "df = load_Dataset('Data/wine-quality-white-and-red.csv')\n",
    "# df = load_Dataset('Data/winequality-red.csv')\n",
    "\n",
    "df.head()"
   ]
  },
  {
   "cell_type": "code",
   "execution_count": 757,
   "id": "36de94f1",
   "metadata": {},
   "outputs": [
    {
     "data": {
      "text/plain": [
       "(6497, 13)"
      ]
     },
     "execution_count": 757,
     "metadata": {},
     "output_type": "execute_result"
    }
   ],
   "source": [
    "# Check the number of rows and columns\n",
    "df.shape"
   ]
  },
  {
   "cell_type": "code",
   "execution_count": 758,
   "id": "25147f1d",
   "metadata": {},
   "outputs": [
    {
     "data": {
      "text/html": [
       "<div>\n",
       "<style scoped>\n",
       "    .dataframe tbody tr th:only-of-type {\n",
       "        vertical-align: middle;\n",
       "    }\n",
       "\n",
       "    .dataframe tbody tr th {\n",
       "        vertical-align: top;\n",
       "    }\n",
       "\n",
       "    .dataframe thead th {\n",
       "        text-align: right;\n",
       "    }\n",
       "</style>\n",
       "<table border=\"1\" class=\"dataframe\">\n",
       "  <thead>\n",
       "    <tr style=\"text-align: right;\">\n",
       "      <th></th>\n",
       "      <th>fixed acidity</th>\n",
       "      <th>volatile acidity</th>\n",
       "      <th>citric acid</th>\n",
       "      <th>residual sugar</th>\n",
       "      <th>chlorides</th>\n",
       "      <th>free sulfur dioxide</th>\n",
       "      <th>total sulfur dioxide</th>\n",
       "      <th>density</th>\n",
       "      <th>pH</th>\n",
       "      <th>sulphates</th>\n",
       "      <th>alcohol</th>\n",
       "      <th>quality</th>\n",
       "    </tr>\n",
       "  </thead>\n",
       "  <tbody>\n",
       "    <tr>\n",
       "      <th>count</th>\n",
       "      <td>6497.000000</td>\n",
       "      <td>6497.000000</td>\n",
       "      <td>6497.000000</td>\n",
       "      <td>6497.000000</td>\n",
       "      <td>6497.000000</td>\n",
       "      <td>6497.000000</td>\n",
       "      <td>6497.000000</td>\n",
       "      <td>6497.000000</td>\n",
       "      <td>6497.000000</td>\n",
       "      <td>6497.000000</td>\n",
       "      <td>6497.000000</td>\n",
       "      <td>6497.000000</td>\n",
       "    </tr>\n",
       "    <tr>\n",
       "      <th>mean</th>\n",
       "      <td>7.215307</td>\n",
       "      <td>0.339666</td>\n",
       "      <td>0.318633</td>\n",
       "      <td>5.443235</td>\n",
       "      <td>0.056034</td>\n",
       "      <td>30.525319</td>\n",
       "      <td>115.744574</td>\n",
       "      <td>0.994697</td>\n",
       "      <td>3.218501</td>\n",
       "      <td>0.531268</td>\n",
       "      <td>10.491801</td>\n",
       "      <td>5.818378</td>\n",
       "    </tr>\n",
       "    <tr>\n",
       "      <th>std</th>\n",
       "      <td>1.296434</td>\n",
       "      <td>0.164636</td>\n",
       "      <td>0.145318</td>\n",
       "      <td>4.757804</td>\n",
       "      <td>0.035034</td>\n",
       "      <td>17.749400</td>\n",
       "      <td>56.521855</td>\n",
       "      <td>0.002999</td>\n",
       "      <td>0.160787</td>\n",
       "      <td>0.148806</td>\n",
       "      <td>1.192712</td>\n",
       "      <td>0.873255</td>\n",
       "    </tr>\n",
       "    <tr>\n",
       "      <th>min</th>\n",
       "      <td>3.800000</td>\n",
       "      <td>0.080000</td>\n",
       "      <td>0.000000</td>\n",
       "      <td>0.600000</td>\n",
       "      <td>0.009000</td>\n",
       "      <td>1.000000</td>\n",
       "      <td>6.000000</td>\n",
       "      <td>0.987110</td>\n",
       "      <td>2.720000</td>\n",
       "      <td>0.220000</td>\n",
       "      <td>8.000000</td>\n",
       "      <td>3.000000</td>\n",
       "    </tr>\n",
       "    <tr>\n",
       "      <th>25%</th>\n",
       "      <td>6.400000</td>\n",
       "      <td>0.230000</td>\n",
       "      <td>0.250000</td>\n",
       "      <td>1.800000</td>\n",
       "      <td>0.038000</td>\n",
       "      <td>17.000000</td>\n",
       "      <td>77.000000</td>\n",
       "      <td>0.992340</td>\n",
       "      <td>3.110000</td>\n",
       "      <td>0.430000</td>\n",
       "      <td>9.500000</td>\n",
       "      <td>5.000000</td>\n",
       "    </tr>\n",
       "    <tr>\n",
       "      <th>50%</th>\n",
       "      <td>7.000000</td>\n",
       "      <td>0.290000</td>\n",
       "      <td>0.310000</td>\n",
       "      <td>3.000000</td>\n",
       "      <td>0.047000</td>\n",
       "      <td>29.000000</td>\n",
       "      <td>118.000000</td>\n",
       "      <td>0.994890</td>\n",
       "      <td>3.210000</td>\n",
       "      <td>0.510000</td>\n",
       "      <td>10.300000</td>\n",
       "      <td>6.000000</td>\n",
       "    </tr>\n",
       "    <tr>\n",
       "      <th>75%</th>\n",
       "      <td>7.700000</td>\n",
       "      <td>0.400000</td>\n",
       "      <td>0.390000</td>\n",
       "      <td>8.100000</td>\n",
       "      <td>0.065000</td>\n",
       "      <td>41.000000</td>\n",
       "      <td>156.000000</td>\n",
       "      <td>0.996990</td>\n",
       "      <td>3.320000</td>\n",
       "      <td>0.600000</td>\n",
       "      <td>11.300000</td>\n",
       "      <td>6.000000</td>\n",
       "    </tr>\n",
       "    <tr>\n",
       "      <th>max</th>\n",
       "      <td>15.900000</td>\n",
       "      <td>1.580000</td>\n",
       "      <td>1.660000</td>\n",
       "      <td>65.800000</td>\n",
       "      <td>0.611000</td>\n",
       "      <td>289.000000</td>\n",
       "      <td>440.000000</td>\n",
       "      <td>1.038980</td>\n",
       "      <td>4.010000</td>\n",
       "      <td>2.000000</td>\n",
       "      <td>14.900000</td>\n",
       "      <td>9.000000</td>\n",
       "    </tr>\n",
       "  </tbody>\n",
       "</table>\n",
       "</div>"
      ],
      "text/plain": [
       "       fixed acidity  volatile acidity  citric acid  residual sugar  \\\n",
       "count    6497.000000       6497.000000  6497.000000     6497.000000   \n",
       "mean        7.215307          0.339666     0.318633        5.443235   \n",
       "std         1.296434          0.164636     0.145318        4.757804   \n",
       "min         3.800000          0.080000     0.000000        0.600000   \n",
       "25%         6.400000          0.230000     0.250000        1.800000   \n",
       "50%         7.000000          0.290000     0.310000        3.000000   \n",
       "75%         7.700000          0.400000     0.390000        8.100000   \n",
       "max        15.900000          1.580000     1.660000       65.800000   \n",
       "\n",
       "         chlorides  free sulfur dioxide  total sulfur dioxide      density  \\\n",
       "count  6497.000000          6497.000000           6497.000000  6497.000000   \n",
       "mean      0.056034            30.525319            115.744574     0.994697   \n",
       "std       0.035034            17.749400             56.521855     0.002999   \n",
       "min       0.009000             1.000000              6.000000     0.987110   \n",
       "25%       0.038000            17.000000             77.000000     0.992340   \n",
       "50%       0.047000            29.000000            118.000000     0.994890   \n",
       "75%       0.065000            41.000000            156.000000     0.996990   \n",
       "max       0.611000           289.000000            440.000000     1.038980   \n",
       "\n",
       "                pH    sulphates      alcohol      quality  \n",
       "count  6497.000000  6497.000000  6497.000000  6497.000000  \n",
       "mean      3.218501     0.531268    10.491801     5.818378  \n",
       "std       0.160787     0.148806     1.192712     0.873255  \n",
       "min       2.720000     0.220000     8.000000     3.000000  \n",
       "25%       3.110000     0.430000     9.500000     5.000000  \n",
       "50%       3.210000     0.510000    10.300000     6.000000  \n",
       "75%       3.320000     0.600000    11.300000     6.000000  \n",
       "max       4.010000     2.000000    14.900000     9.000000  "
      ]
     },
     "execution_count": 758,
     "metadata": {},
     "output_type": "execute_result"
    }
   ],
   "source": [
    "# Checking the ydescriptioon to understand the data more\n",
    "df.describe()"
   ]
  },
  {
   "cell_type": "markdown",
   "id": "b7432c11",
   "metadata": {},
   "source": [
    "- The average of fixed acidity is `7.21`, the highest is `15.9`\n",
    "- The average of volatile acidity is `0.34`, the highest is `1.58`\n",
    "- The average of citric acid is` 0.32`, the highest is `1.66`\n",
    "- The average of residual sugar is `5.44`, the highest is `65.8`\n",
    "- The average of chlorides is `0.06`, the highest is `0.61`\n",
    "- The average of free sulfur dioxide is `30.52`, the highest is `289`\n",
    "- The average of total sulfur dioxide is `115.74`, the highest is `440`\n",
    "- The average of density is `0.99`, the highest is `1.o4`\n",
    "- The average of pH is `3.21`, the highest is `4.01`\n",
    "- The average of sulphates is `0.53`, the highest is `2`\n",
    "- The average of alcohol is `10.49`, the highest is `14.90`\n",
    "- The average of quality is `5.81`, the highest value is `9`"
   ]
  },
  {
   "cell_type": "code",
   "execution_count": 759,
   "id": "df1ad910",
   "metadata": {},
   "outputs": [
    {
     "name": "stdout",
     "output_type": "stream",
     "text": [
      "<class 'pandas.core.frame.DataFrame'>\n",
      "RangeIndex: 6497 entries, 0 to 6496\n",
      "Data columns (total 13 columns):\n",
      " #   Column                Non-Null Count  Dtype  \n",
      "---  ------                --------------  -----  \n",
      " 0   type                  6497 non-null   object \n",
      " 1   fixed acidity         6497 non-null   float64\n",
      " 2   volatile acidity      6497 non-null   float64\n",
      " 3   citric acid           6497 non-null   float64\n",
      " 4   residual sugar        6497 non-null   float64\n",
      " 5   chlorides             6497 non-null   float64\n",
      " 6   free sulfur dioxide   6497 non-null   float64\n",
      " 7   total sulfur dioxide  6497 non-null   float64\n",
      " 8   density               6497 non-null   float64\n",
      " 9   pH                    6497 non-null   float64\n",
      " 10  sulphates             6497 non-null   float64\n",
      " 11  alcohol               6497 non-null   float64\n",
      " 12  quality               6497 non-null   int64  \n",
      "dtypes: float64(11), int64(1), object(1)\n",
      "memory usage: 660.0+ KB\n"
     ]
    }
   ],
   "source": [
    "# Check more information about the dataset\n",
    "df.info()"
   ]
  },
  {
   "cell_type": "markdown",
   "id": "14d8cd2f",
   "metadata": {},
   "source": [
    "This shows us that our dataset has no null values."
   ]
  },
  {
   "cell_type": "markdown",
   "id": "52810f81",
   "metadata": {},
   "source": [
    "# 3.DATA PREPARATION"
   ]
  },
  {
   "cell_type": "markdown",
   "id": "23711dc4",
   "metadata": {},
   "source": [
    "## 3.1 Handling Missing Values"
   ]
  },
  {
   "cell_type": "code",
   "execution_count": 760,
   "id": "3f50ec59",
   "metadata": {},
   "outputs": [
    {
     "data": {
      "text/plain": [
       "type                    0\n",
       "fixed acidity           0\n",
       "volatile acidity        0\n",
       "citric acid             0\n",
       "residual sugar          0\n",
       "chlorides               0\n",
       "free sulfur dioxide     0\n",
       "total sulfur dioxide    0\n",
       "density                 0\n",
       "pH                      0\n",
       "sulphates               0\n",
       "alcohol                 0\n",
       "quality                 0\n",
       "dtype: int64"
      ]
     },
     "execution_count": 760,
     "metadata": {},
     "output_type": "execute_result"
    }
   ],
   "source": [
    "# Chcek for missing values\n",
    "df.isna().sum()"
   ]
  },
  {
   "cell_type": "markdown",
   "id": "60472649",
   "metadata": {},
   "source": [
    "We do not have any missing values in this dataset"
   ]
  },
  {
   "cell_type": "markdown",
   "id": "28dadf1d",
   "metadata": {},
   "source": [
    "## 3.2 Encode to Binary"
   ]
  },
  {
   "cell_type": "code",
   "execution_count": 761,
   "id": "e6ee420b",
   "metadata": {},
   "outputs": [
    {
     "data": {
      "text/html": [
       "<div>\n",
       "<style scoped>\n",
       "    .dataframe tbody tr th:only-of-type {\n",
       "        vertical-align: middle;\n",
       "    }\n",
       "\n",
       "    .dataframe tbody tr th {\n",
       "        vertical-align: top;\n",
       "    }\n",
       "\n",
       "    .dataframe thead th {\n",
       "        text-align: right;\n",
       "    }\n",
       "</style>\n",
       "<table border=\"1\" class=\"dataframe\">\n",
       "  <thead>\n",
       "    <tr style=\"text-align: right;\">\n",
       "      <th></th>\n",
       "      <th>type</th>\n",
       "      <th>fixed acidity</th>\n",
       "      <th>volatile acidity</th>\n",
       "      <th>citric acid</th>\n",
       "      <th>residual sugar</th>\n",
       "      <th>chlorides</th>\n",
       "      <th>free sulfur dioxide</th>\n",
       "      <th>total sulfur dioxide</th>\n",
       "      <th>density</th>\n",
       "      <th>pH</th>\n",
       "      <th>sulphates</th>\n",
       "      <th>alcohol</th>\n",
       "      <th>quality</th>\n",
       "      <th>is red</th>\n",
       "    </tr>\n",
       "  </thead>\n",
       "  <tbody>\n",
       "    <tr>\n",
       "      <th>0</th>\n",
       "      <td>white</td>\n",
       "      <td>7.0</td>\n",
       "      <td>0.27</td>\n",
       "      <td>0.36</td>\n",
       "      <td>20.7</td>\n",
       "      <td>0.045</td>\n",
       "      <td>45.0</td>\n",
       "      <td>170.0</td>\n",
       "      <td>1.0010</td>\n",
       "      <td>3.00</td>\n",
       "      <td>0.45</td>\n",
       "      <td>8.8</td>\n",
       "      <td>6</td>\n",
       "      <td>0</td>\n",
       "    </tr>\n",
       "    <tr>\n",
       "      <th>1</th>\n",
       "      <td>white</td>\n",
       "      <td>6.3</td>\n",
       "      <td>0.30</td>\n",
       "      <td>0.34</td>\n",
       "      <td>1.6</td>\n",
       "      <td>0.049</td>\n",
       "      <td>14.0</td>\n",
       "      <td>132.0</td>\n",
       "      <td>0.9940</td>\n",
       "      <td>3.30</td>\n",
       "      <td>0.49</td>\n",
       "      <td>9.5</td>\n",
       "      <td>6</td>\n",
       "      <td>0</td>\n",
       "    </tr>\n",
       "    <tr>\n",
       "      <th>2</th>\n",
       "      <td>white</td>\n",
       "      <td>8.1</td>\n",
       "      <td>0.28</td>\n",
       "      <td>0.40</td>\n",
       "      <td>6.9</td>\n",
       "      <td>0.050</td>\n",
       "      <td>30.0</td>\n",
       "      <td>97.0</td>\n",
       "      <td>0.9951</td>\n",
       "      <td>3.26</td>\n",
       "      <td>0.44</td>\n",
       "      <td>10.1</td>\n",
       "      <td>6</td>\n",
       "      <td>0</td>\n",
       "    </tr>\n",
       "    <tr>\n",
       "      <th>3</th>\n",
       "      <td>white</td>\n",
       "      <td>7.2</td>\n",
       "      <td>0.23</td>\n",
       "      <td>0.32</td>\n",
       "      <td>8.5</td>\n",
       "      <td>0.058</td>\n",
       "      <td>47.0</td>\n",
       "      <td>186.0</td>\n",
       "      <td>0.9956</td>\n",
       "      <td>3.19</td>\n",
       "      <td>0.40</td>\n",
       "      <td>9.9</td>\n",
       "      <td>6</td>\n",
       "      <td>0</td>\n",
       "    </tr>\n",
       "    <tr>\n",
       "      <th>4</th>\n",
       "      <td>white</td>\n",
       "      <td>7.2</td>\n",
       "      <td>0.23</td>\n",
       "      <td>0.32</td>\n",
       "      <td>8.5</td>\n",
       "      <td>0.058</td>\n",
       "      <td>47.0</td>\n",
       "      <td>186.0</td>\n",
       "      <td>0.9956</td>\n",
       "      <td>3.19</td>\n",
       "      <td>0.40</td>\n",
       "      <td>9.9</td>\n",
       "      <td>6</td>\n",
       "      <td>0</td>\n",
       "    </tr>\n",
       "  </tbody>\n",
       "</table>\n",
       "</div>"
      ],
      "text/plain": [
       "    type  fixed acidity  volatile acidity  citric acid  residual sugar  \\\n",
       "0  white            7.0              0.27         0.36            20.7   \n",
       "1  white            6.3              0.30         0.34             1.6   \n",
       "2  white            8.1              0.28         0.40             6.9   \n",
       "3  white            7.2              0.23         0.32             8.5   \n",
       "4  white            7.2              0.23         0.32             8.5   \n",
       "\n",
       "   chlorides  free sulfur dioxide  total sulfur dioxide  density    pH  \\\n",
       "0      0.045                 45.0                 170.0   1.0010  3.00   \n",
       "1      0.049                 14.0                 132.0   0.9940  3.30   \n",
       "2      0.050                 30.0                  97.0   0.9951  3.26   \n",
       "3      0.058                 47.0                 186.0   0.9956  3.19   \n",
       "4      0.058                 47.0                 186.0   0.9956  3.19   \n",
       "\n",
       "   sulphates  alcohol  quality  is red  \n",
       "0       0.45      8.8        6       0  \n",
       "1       0.49      9.5        6       0  \n",
       "2       0.44     10.1        6       0  \n",
       "3       0.40      9.9        6       0  \n",
       "4       0.40      9.9        6       0  "
      ]
     },
     "execution_count": 761,
     "metadata": {},
     "output_type": "execute_result"
    }
   ],
   "source": [
    "# Convert wine type to binary\n",
    "df['is red'] = (df['type'] == 'red').astype(int)\n",
    "df.head()"
   ]
  },
  {
   "cell_type": "markdown",
   "id": "d757ad58",
   "metadata": {},
   "source": [
    "## 3.4 Adding Important Columns"
   ]
  },
  {
   "cell_type": "code",
   "execution_count": 762,
   "id": "acaf66f7",
   "metadata": {},
   "outputs": [
    {
     "data": {
      "text/html": [
       "<div>\n",
       "<style scoped>\n",
       "    .dataframe tbody tr th:only-of-type {\n",
       "        vertical-align: middle;\n",
       "    }\n",
       "\n",
       "    .dataframe tbody tr th {\n",
       "        vertical-align: top;\n",
       "    }\n",
       "\n",
       "    .dataframe thead th {\n",
       "        text-align: right;\n",
       "    }\n",
       "</style>\n",
       "<table border=\"1\" class=\"dataframe\">\n",
       "  <thead>\n",
       "    <tr style=\"text-align: right;\">\n",
       "      <th></th>\n",
       "      <th>type</th>\n",
       "      <th>fixed acidity</th>\n",
       "      <th>volatile acidity</th>\n",
       "      <th>citric acid</th>\n",
       "      <th>residual sugar</th>\n",
       "      <th>chlorides</th>\n",
       "      <th>free sulfur dioxide</th>\n",
       "      <th>total sulfur dioxide</th>\n",
       "      <th>density</th>\n",
       "      <th>pH</th>\n",
       "      <th>sulphates</th>\n",
       "      <th>alcohol</th>\n",
       "      <th>quality</th>\n",
       "      <th>is red</th>\n",
       "      <th>quality label</th>\n",
       "    </tr>\n",
       "  </thead>\n",
       "  <tbody>\n",
       "    <tr>\n",
       "      <th>0</th>\n",
       "      <td>white</td>\n",
       "      <td>7.0</td>\n",
       "      <td>0.27</td>\n",
       "      <td>0.36</td>\n",
       "      <td>20.7</td>\n",
       "      <td>0.045</td>\n",
       "      <td>45.0</td>\n",
       "      <td>170.0</td>\n",
       "      <td>1.0010</td>\n",
       "      <td>3.00</td>\n",
       "      <td>0.45</td>\n",
       "      <td>8.8</td>\n",
       "      <td>6</td>\n",
       "      <td>0</td>\n",
       "      <td>low</td>\n",
       "    </tr>\n",
       "    <tr>\n",
       "      <th>1</th>\n",
       "      <td>white</td>\n",
       "      <td>6.3</td>\n",
       "      <td>0.30</td>\n",
       "      <td>0.34</td>\n",
       "      <td>1.6</td>\n",
       "      <td>0.049</td>\n",
       "      <td>14.0</td>\n",
       "      <td>132.0</td>\n",
       "      <td>0.9940</td>\n",
       "      <td>3.30</td>\n",
       "      <td>0.49</td>\n",
       "      <td>9.5</td>\n",
       "      <td>6</td>\n",
       "      <td>0</td>\n",
       "      <td>low</td>\n",
       "    </tr>\n",
       "    <tr>\n",
       "      <th>2</th>\n",
       "      <td>white</td>\n",
       "      <td>8.1</td>\n",
       "      <td>0.28</td>\n",
       "      <td>0.40</td>\n",
       "      <td>6.9</td>\n",
       "      <td>0.050</td>\n",
       "      <td>30.0</td>\n",
       "      <td>97.0</td>\n",
       "      <td>0.9951</td>\n",
       "      <td>3.26</td>\n",
       "      <td>0.44</td>\n",
       "      <td>10.1</td>\n",
       "      <td>6</td>\n",
       "      <td>0</td>\n",
       "      <td>low</td>\n",
       "    </tr>\n",
       "    <tr>\n",
       "      <th>3</th>\n",
       "      <td>white</td>\n",
       "      <td>7.2</td>\n",
       "      <td>0.23</td>\n",
       "      <td>0.32</td>\n",
       "      <td>8.5</td>\n",
       "      <td>0.058</td>\n",
       "      <td>47.0</td>\n",
       "      <td>186.0</td>\n",
       "      <td>0.9956</td>\n",
       "      <td>3.19</td>\n",
       "      <td>0.40</td>\n",
       "      <td>9.9</td>\n",
       "      <td>6</td>\n",
       "      <td>0</td>\n",
       "      <td>low</td>\n",
       "    </tr>\n",
       "    <tr>\n",
       "      <th>4</th>\n",
       "      <td>white</td>\n",
       "      <td>7.2</td>\n",
       "      <td>0.23</td>\n",
       "      <td>0.32</td>\n",
       "      <td>8.5</td>\n",
       "      <td>0.058</td>\n",
       "      <td>47.0</td>\n",
       "      <td>186.0</td>\n",
       "      <td>0.9956</td>\n",
       "      <td>3.19</td>\n",
       "      <td>0.40</td>\n",
       "      <td>9.9</td>\n",
       "      <td>6</td>\n",
       "      <td>0</td>\n",
       "      <td>low</td>\n",
       "    </tr>\n",
       "  </tbody>\n",
       "</table>\n",
       "</div>"
      ],
      "text/plain": [
       "    type  fixed acidity  volatile acidity  citric acid  residual sugar  \\\n",
       "0  white            7.0              0.27         0.36            20.7   \n",
       "1  white            6.3              0.30         0.34             1.6   \n",
       "2  white            8.1              0.28         0.40             6.9   \n",
       "3  white            7.2              0.23         0.32             8.5   \n",
       "4  white            7.2              0.23         0.32             8.5   \n",
       "\n",
       "   chlorides  free sulfur dioxide  total sulfur dioxide  density    pH  \\\n",
       "0      0.045                 45.0                 170.0   1.0010  3.00   \n",
       "1      0.049                 14.0                 132.0   0.9940  3.30   \n",
       "2      0.050                 30.0                  97.0   0.9951  3.26   \n",
       "3      0.058                 47.0                 186.0   0.9956  3.19   \n",
       "4      0.058                 47.0                 186.0   0.9956  3.19   \n",
       "\n",
       "   sulphates  alcohol  quality  is red quality label  \n",
       "0       0.45      8.8        6       0           low  \n",
       "1       0.49      9.5        6       0           low  \n",
       "2       0.44     10.1        6       0           low  \n",
       "3       0.40      9.9        6       0           low  \n",
       "4       0.40      9.9        6       0           low  "
      ]
     },
     "execution_count": 762,
     "metadata": {},
     "output_type": "execute_result"
    }
   ],
   "source": [
    "# Add quality labels in categories\n",
    "def qualityLabel(qual):\n",
    "  if qual <= 6:\n",
    "    return 'low'\n",
    "  else:\n",
    "    return 'high'\n",
    "\n",
    "df['quality label'] = df['quality'].apply(qualityLabel)\n",
    "df.head()"
   ]
  },
  {
   "cell_type": "markdown",
   "id": "67f52a62",
   "metadata": {},
   "source": [
    "Created a new column `quality label` that classifies the quality in to `low, medium` and `high` quality"
   ]
  },
  {
   "cell_type": "code",
   "execution_count": 763,
   "id": "3a4bf35f",
   "metadata": {},
   "outputs": [
    {
     "data": {
      "text/html": [
       "<div>\n",
       "<style scoped>\n",
       "    .dataframe tbody tr th:only-of-type {\n",
       "        vertical-align: middle;\n",
       "    }\n",
       "\n",
       "    .dataframe tbody tr th {\n",
       "        vertical-align: top;\n",
       "    }\n",
       "\n",
       "    .dataframe thead th {\n",
       "        text-align: right;\n",
       "    }\n",
       "</style>\n",
       "<table border=\"1\" class=\"dataframe\">\n",
       "  <thead>\n",
       "    <tr style=\"text-align: right;\">\n",
       "      <th></th>\n",
       "      <th>type</th>\n",
       "      <th>fixed acidity</th>\n",
       "      <th>volatile acidity</th>\n",
       "      <th>citric acid</th>\n",
       "      <th>residual sugar</th>\n",
       "      <th>chlorides</th>\n",
       "      <th>free sulfur dioxide</th>\n",
       "      <th>total sulfur dioxide</th>\n",
       "      <th>density</th>\n",
       "      <th>pH</th>\n",
       "      <th>sulphates</th>\n",
       "      <th>alcohol</th>\n",
       "      <th>quality</th>\n",
       "      <th>is red</th>\n",
       "      <th>quality label</th>\n",
       "      <th>quality label encoded</th>\n",
       "    </tr>\n",
       "  </thead>\n",
       "  <tbody>\n",
       "    <tr>\n",
       "      <th>0</th>\n",
       "      <td>white</td>\n",
       "      <td>7.0</td>\n",
       "      <td>0.27</td>\n",
       "      <td>0.36</td>\n",
       "      <td>20.7</td>\n",
       "      <td>0.045</td>\n",
       "      <td>45.0</td>\n",
       "      <td>170.0</td>\n",
       "      <td>1.0010</td>\n",
       "      <td>3.00</td>\n",
       "      <td>0.45</td>\n",
       "      <td>8.8</td>\n",
       "      <td>6</td>\n",
       "      <td>0</td>\n",
       "      <td>low</td>\n",
       "      <td>0</td>\n",
       "    </tr>\n",
       "    <tr>\n",
       "      <th>1</th>\n",
       "      <td>white</td>\n",
       "      <td>6.3</td>\n",
       "      <td>0.30</td>\n",
       "      <td>0.34</td>\n",
       "      <td>1.6</td>\n",
       "      <td>0.049</td>\n",
       "      <td>14.0</td>\n",
       "      <td>132.0</td>\n",
       "      <td>0.9940</td>\n",
       "      <td>3.30</td>\n",
       "      <td>0.49</td>\n",
       "      <td>9.5</td>\n",
       "      <td>6</td>\n",
       "      <td>0</td>\n",
       "      <td>low</td>\n",
       "      <td>0</td>\n",
       "    </tr>\n",
       "    <tr>\n",
       "      <th>2</th>\n",
       "      <td>white</td>\n",
       "      <td>8.1</td>\n",
       "      <td>0.28</td>\n",
       "      <td>0.40</td>\n",
       "      <td>6.9</td>\n",
       "      <td>0.050</td>\n",
       "      <td>30.0</td>\n",
       "      <td>97.0</td>\n",
       "      <td>0.9951</td>\n",
       "      <td>3.26</td>\n",
       "      <td>0.44</td>\n",
       "      <td>10.1</td>\n",
       "      <td>6</td>\n",
       "      <td>0</td>\n",
       "      <td>low</td>\n",
       "      <td>0</td>\n",
       "    </tr>\n",
       "    <tr>\n",
       "      <th>3</th>\n",
       "      <td>white</td>\n",
       "      <td>7.2</td>\n",
       "      <td>0.23</td>\n",
       "      <td>0.32</td>\n",
       "      <td>8.5</td>\n",
       "      <td>0.058</td>\n",
       "      <td>47.0</td>\n",
       "      <td>186.0</td>\n",
       "      <td>0.9956</td>\n",
       "      <td>3.19</td>\n",
       "      <td>0.40</td>\n",
       "      <td>9.9</td>\n",
       "      <td>6</td>\n",
       "      <td>0</td>\n",
       "      <td>low</td>\n",
       "      <td>0</td>\n",
       "    </tr>\n",
       "    <tr>\n",
       "      <th>4</th>\n",
       "      <td>white</td>\n",
       "      <td>7.2</td>\n",
       "      <td>0.23</td>\n",
       "      <td>0.32</td>\n",
       "      <td>8.5</td>\n",
       "      <td>0.058</td>\n",
       "      <td>47.0</td>\n",
       "      <td>186.0</td>\n",
       "      <td>0.9956</td>\n",
       "      <td>3.19</td>\n",
       "      <td>0.40</td>\n",
       "      <td>9.9</td>\n",
       "      <td>6</td>\n",
       "      <td>0</td>\n",
       "      <td>low</td>\n",
       "      <td>0</td>\n",
       "    </tr>\n",
       "  </tbody>\n",
       "</table>\n",
       "</div>"
      ],
      "text/plain": [
       "    type  fixed acidity  volatile acidity  citric acid  residual sugar  \\\n",
       "0  white            7.0              0.27         0.36            20.7   \n",
       "1  white            6.3              0.30         0.34             1.6   \n",
       "2  white            8.1              0.28         0.40             6.9   \n",
       "3  white            7.2              0.23         0.32             8.5   \n",
       "4  white            7.2              0.23         0.32             8.5   \n",
       "\n",
       "   chlorides  free sulfur dioxide  total sulfur dioxide  density    pH  \\\n",
       "0      0.045                 45.0                 170.0   1.0010  3.00   \n",
       "1      0.049                 14.0                 132.0   0.9940  3.30   \n",
       "2      0.050                 30.0                  97.0   0.9951  3.26   \n",
       "3      0.058                 47.0                 186.0   0.9956  3.19   \n",
       "4      0.058                 47.0                 186.0   0.9956  3.19   \n",
       "\n",
       "   sulphates  alcohol  quality  is red quality label  quality label encoded  \n",
       "0       0.45      8.8        6       0           low                      0  \n",
       "1       0.49      9.5        6       0           low                      0  \n",
       "2       0.44     10.1        6       0           low                      0  \n",
       "3       0.40      9.9        6       0           low                      0  \n",
       "4       0.40      9.9        6       0           low                      0  "
      ]
     },
     "execution_count": 763,
     "metadata": {},
     "output_type": "execute_result"
    }
   ],
   "source": [
    "# Create an encoding of the quality label (target)\n",
    "df['quality label encoded'] = df['quality label'].map({'low': 0, 'high': 1})\n",
    "df.head()"
   ]
  },
  {
   "cell_type": "markdown",
   "id": "2976b580",
   "metadata": {},
   "source": [
    "Create binary column for the quality label"
   ]
  },
  {
   "cell_type": "code",
   "execution_count": 764,
   "id": "ff86d912",
   "metadata": {},
   "outputs": [
    {
     "data": {
      "text/html": [
       "<div>\n",
       "<style scoped>\n",
       "    .dataframe tbody tr th:only-of-type {\n",
       "        vertical-align: middle;\n",
       "    }\n",
       "\n",
       "    .dataframe tbody tr th {\n",
       "        vertical-align: top;\n",
       "    }\n",
       "\n",
       "    .dataframe thead th {\n",
       "        text-align: right;\n",
       "    }\n",
       "</style>\n",
       "<table border=\"1\" class=\"dataframe\">\n",
       "  <thead>\n",
       "    <tr style=\"text-align: right;\">\n",
       "      <th></th>\n",
       "      <th>type</th>\n",
       "      <th>fixed acidity</th>\n",
       "      <th>volatile acidity</th>\n",
       "      <th>citric acid</th>\n",
       "      <th>residual sugar</th>\n",
       "      <th>chlorides</th>\n",
       "      <th>free sulfur dioxide</th>\n",
       "      <th>total sulfur dioxide</th>\n",
       "      <th>density</th>\n",
       "      <th>pH</th>\n",
       "      <th>sulphates</th>\n",
       "      <th>alcohol</th>\n",
       "      <th>quality</th>\n",
       "      <th>is red</th>\n",
       "      <th>quality label</th>\n",
       "      <th>quality label encoded</th>\n",
       "      <th>sugar/acidity</th>\n",
       "      <th>sulphates ratio</th>\n",
       "    </tr>\n",
       "  </thead>\n",
       "  <tbody>\n",
       "    <tr>\n",
       "      <th>0</th>\n",
       "      <td>white</td>\n",
       "      <td>7.0</td>\n",
       "      <td>0.27</td>\n",
       "      <td>0.36</td>\n",
       "      <td>20.7</td>\n",
       "      <td>0.045</td>\n",
       "      <td>45.0</td>\n",
       "      <td>170.0</td>\n",
       "      <td>1.0010</td>\n",
       "      <td>3.00</td>\n",
       "      <td>0.45</td>\n",
       "      <td>8.8</td>\n",
       "      <td>6</td>\n",
       "      <td>0</td>\n",
       "      <td>low</td>\n",
       "      <td>0</td>\n",
       "      <td>76.663827</td>\n",
       "      <td>9.997778</td>\n",
       "    </tr>\n",
       "    <tr>\n",
       "      <th>1</th>\n",
       "      <td>white</td>\n",
       "      <td>6.3</td>\n",
       "      <td>0.30</td>\n",
       "      <td>0.34</td>\n",
       "      <td>1.6</td>\n",
       "      <td>0.049</td>\n",
       "      <td>14.0</td>\n",
       "      <td>132.0</td>\n",
       "      <td>0.9940</td>\n",
       "      <td>3.30</td>\n",
       "      <td>0.49</td>\n",
       "      <td>9.5</td>\n",
       "      <td>6</td>\n",
       "      <td>0</td>\n",
       "      <td>low</td>\n",
       "      <td>0</td>\n",
       "      <td>5.333156</td>\n",
       "      <td>9.997960</td>\n",
       "    </tr>\n",
       "    <tr>\n",
       "      <th>2</th>\n",
       "      <td>white</td>\n",
       "      <td>8.1</td>\n",
       "      <td>0.28</td>\n",
       "      <td>0.40</td>\n",
       "      <td>6.9</td>\n",
       "      <td>0.050</td>\n",
       "      <td>30.0</td>\n",
       "      <td>97.0</td>\n",
       "      <td>0.9951</td>\n",
       "      <td>3.26</td>\n",
       "      <td>0.44</td>\n",
       "      <td>10.1</td>\n",
       "      <td>6</td>\n",
       "      <td>0</td>\n",
       "      <td>low</td>\n",
       "      <td>0</td>\n",
       "      <td>24.641977</td>\n",
       "      <td>8.798240</td>\n",
       "    </tr>\n",
       "    <tr>\n",
       "      <th>3</th>\n",
       "      <td>white</td>\n",
       "      <td>7.2</td>\n",
       "      <td>0.23</td>\n",
       "      <td>0.32</td>\n",
       "      <td>8.5</td>\n",
       "      <td>0.058</td>\n",
       "      <td>47.0</td>\n",
       "      <td>186.0</td>\n",
       "      <td>0.9956</td>\n",
       "      <td>3.19</td>\n",
       "      <td>0.40</td>\n",
       "      <td>9.9</td>\n",
       "      <td>6</td>\n",
       "      <td>0</td>\n",
       "      <td>low</td>\n",
       "      <td>0</td>\n",
       "      <td>36.954915</td>\n",
       "      <td>6.895363</td>\n",
       "    </tr>\n",
       "    <tr>\n",
       "      <th>4</th>\n",
       "      <td>white</td>\n",
       "      <td>7.2</td>\n",
       "      <td>0.23</td>\n",
       "      <td>0.32</td>\n",
       "      <td>8.5</td>\n",
       "      <td>0.058</td>\n",
       "      <td>47.0</td>\n",
       "      <td>186.0</td>\n",
       "      <td>0.9956</td>\n",
       "      <td>3.19</td>\n",
       "      <td>0.40</td>\n",
       "      <td>9.9</td>\n",
       "      <td>6</td>\n",
       "      <td>0</td>\n",
       "      <td>low</td>\n",
       "      <td>0</td>\n",
       "      <td>36.954915</td>\n",
       "      <td>6.895363</td>\n",
       "    </tr>\n",
       "  </tbody>\n",
       "</table>\n",
       "</div>"
      ],
      "text/plain": [
       "    type  fixed acidity  volatile acidity  citric acid  residual sugar  \\\n",
       "0  white            7.0              0.27         0.36            20.7   \n",
       "1  white            6.3              0.30         0.34             1.6   \n",
       "2  white            8.1              0.28         0.40             6.9   \n",
       "3  white            7.2              0.23         0.32             8.5   \n",
       "4  white            7.2              0.23         0.32             8.5   \n",
       "\n",
       "   chlorides  free sulfur dioxide  total sulfur dioxide  density    pH  \\\n",
       "0      0.045                 45.0                 170.0   1.0010  3.00   \n",
       "1      0.049                 14.0                 132.0   0.9940  3.30   \n",
       "2      0.050                 30.0                  97.0   0.9951  3.26   \n",
       "3      0.058                 47.0                 186.0   0.9956  3.19   \n",
       "4      0.058                 47.0                 186.0   0.9956  3.19   \n",
       "\n",
       "   sulphates  alcohol  quality  is red quality label  quality label encoded  \\\n",
       "0       0.45      8.8        6       0           low                      0   \n",
       "1       0.49      9.5        6       0           low                      0   \n",
       "2       0.44     10.1        6       0           low                      0   \n",
       "3       0.40      9.9        6       0           low                      0   \n",
       "4       0.40      9.9        6       0           low                      0   \n",
       "\n",
       "   sugar/acidity  sulphates ratio  \n",
       "0      76.663827         9.997778  \n",
       "1       5.333156         9.997960  \n",
       "2      24.641977         8.798240  \n",
       "3      36.954915         6.895363  \n",
       "4      36.954915         6.895363  "
      ]
     },
     "execution_count": 764,
     "metadata": {},
     "output_type": "execute_result"
    }
   ],
   "source": [
    "# Create new Features\n",
    "df['sugar/acidity'] = df['residual sugar'] / (df['volatile acidity'] + 1e-5)\n",
    "df['sulphates ratio'] = df['sulphates'] / (df['chlorides'] + 1e-5)\n",
    "df.head()"
   ]
  },
  {
   "cell_type": "markdown",
   "id": "4dffbb68",
   "metadata": {},
   "source": [
    "This is to create new columns that we will be using in our modelling."
   ]
  },
  {
   "cell_type": "markdown",
   "metadata": {},
   "source": [
    "## 3.5 Explanatory Data Analysis\n",
    "### 3.5.1 Understand dostribution between Wine quality and Type"
   ]
  },
  {
   "cell_type": "code",
   "execution_count": 765,
   "id": "f76e1e84",
   "metadata": {},
   "outputs": [
    {
     "data": {
      "image/png": "[encoded data removed]",
      "text/plain": [
       "<Figure size 1080x720 with 1 Axes>"
      ]
     },
     "metadata": {
      "needs_background": "light"
     },
     "output_type": "display_data"
    }
   ],
   "source": [
    "plt.figure(figsize=(15, 10))\n",
    "sns.countplot(x='quality', hue='type', data=df)\n",
    "plt.title('Wine Quality Distribution by Wine Type')\n",
    "plt.xlabel('Quality Score')\n",
    "plt.ylabel('Count')\n",
    "plt.legend(title='Wine Type')\n",
    "plt.show()"
   ]
  },
  {
   "cell_type": "markdown",
   "id": "03f94c95",
   "metadata": {},
   "source": [
    "- The output shows that most wines are rated 5 and 6 showning that the medium quality wines ast average dominate.This shows the dataset is imbalanced as most wines fall under the moderate category.\n",
    "- Very few wines in low quality and high quality wines\n",
    "- The Data is imbalanced so we will consider alternative solutions like Resampling and class weights"
   ]
  },
  {
   "cell_type": "markdown",
   "id": "2ac42a6b",
   "metadata": {},
   "source": [
    "### 3.5.2 Correlation heatmap between the numerical features in the dataset"
   ]
  },
  {
   "cell_type": "code",
   "execution_count": 766,
   "id": "b2729898",
   "metadata": {},
   "outputs": [
    {
     "data": {
      "image/png": "[encoded data removed]",
      "text/plain": [
       "<Figure size 720x576 with 2 Axes>"
      ]
     },
     "metadata": {
      "needs_background": "light"
     },
     "output_type": "display_data"
    }
   ],
   "source": [
    "numericalCols = df.select_dtypes(include=['float64','int64'])\n",
    "\n",
    "plt.figure(figsize=(10,8))\n",
    "sns.heatmap(numericalCols.corr(), annot=True, fmt='.2f', cmap='coolwarm', linewidths=0.5)\n",
    "plt.title('Correlation Heatmap between Numerical Features')\n",
    "plt.tight_layout()\n",
    "plt.show()"
   ]
  },
  {
   "cell_type": "markdown",
   "id": "1ef516ce",
   "metadata": {},
   "source": [
    "Correlation coeffficients range from `-1` to `1` where:\n",
    "`+1` strong positive correlation(an increase in one leads to an increase in the other)\n",
    "`-1` strong negative correlation(as one increases the other decreases)\n",
    "`0` There is no correlation\n",
    "\n",
    "Our main concern is how features relate to `quality`.\n",
    "\n",
    "From the matrx above we conclude the features with the highest correlation to qualitya are `alcohol` with `0.44`(positive correlation) and `volatile acidity` with `-0.27` (negative correlation)"
   ]
  },
  {
   "cell_type": "code",
   "execution_count": 767,
   "id": "b2f4b8f4",
   "metadata": {},
   "outputs": [
    {
     "data": {
      "image/png": "[encoded data removed]",
      "text/plain": [
       "<Figure size 1080x720 with 1 Axes>"
      ]
     },
     "metadata": {
      "needs_background": "light"
     },
     "output_type": "display_data"
    }
   ],
   "source": [
    "## Check relationship between quality and the 4 best features we have seen from the matrix\n",
    "\n",
    "ig= plt.subplots(1,figsize=(15, 10))\n",
    "\n",
    "sns.scatterplot(x = \"alcohol\",y = \"quality\", hue = \"quality\",data = df).set(title = \"Relationship between alcohol and quality\");"
   ]
  },
  {
   "cell_type": "markdown",
   "id": "7f5dbffc",
   "metadata": {},
   "source": [
    "The image shows the relationshib between quality and alcohol(strongest correlation)\n",
    "\n",
    "- Wines with higher alcohol tent to receive higher quality rates\n",
    "- quality levels at 5,6,7 are the most frequent"
   ]
  },
  {
   "cell_type": "code",
   "execution_count": 768,
   "id": "5058cb8d",
   "metadata": {},
   "outputs": [
    {
     "data": {
      "image/png": "[encoded data removed]",
      "text/plain": [
       "<Figure size 432x288 with 1 Axes>"
      ]
     },
     "metadata": {
      "needs_background": "light"
     },
     "output_type": "display_data"
    },
    {
     "data": {
      "image/png": "[encoded data removed]",
      "text/plain": [
       "<Figure size 432x288 with 1 Axes>"
      ]
     },
     "metadata": {
      "needs_background": "light"
     },
     "output_type": "display_data"
    }
   ],
   "source": [
    "# Compare red vs white average target\n",
    "sns.boxplot(data=df, x='type', y='quality')\n",
    "plt.title('Wine Quality by Type')\n",
    "plt.show()\n",
    "\n",
    "# Count of quality labels by type\n",
    "sns.countplot(data=df, x='quality label', hue='type')\n",
    "plt.title('Wine Quality Labels by Type')\n",
    "plt.show()"
   ]
  },
  {
   "cell_type": "markdown",
   "id": "b071a84b",
   "metadata": {},
   "source": [
    "The first diagram shows us that:\n",
    "- Maximun wine count ranges at around 5 and 6 ..Clarifies that wine color does not affect the quality as they have their means around the same point.\n",
    "- Visible that white tends to have more outliers with very high quality.\n",
    "\n",
    "The second diagram:\n",
    "- Lower wines that are <7 are produces more as they have a higher count at both low and high levels than the high quality wines\n",
    "- More white wines are produced than red wines."
   ]
  },
  {
   "cell_type": "markdown",
   "id": "6e50d596",
   "metadata": {},
   "source": [
    "# 4.MODELING"
   ]
  },
  {
   "cell_type": "markdown",
   "id": "100d7302",
   "metadata": {},
   "source": [
    "## 4.1  Regression"
   ]
  },
  {
   "cell_type": "markdown",
   "id": "44940637",
   "metadata": {},
   "source": [
    "### 4.1.1 Multi Linear Regression"
   ]
  },
  {
   "cell_type": "code",
   "execution_count": 769,
   "id": "1385317a",
   "metadata": {},
   "outputs": [
    {
     "data": {
      "text/plain": [
       "Index(['type', 'fixed acidity', 'volatile acidity', 'citric acid',\n",
       "       'residual sugar', 'chlorides', 'free sulfur dioxide',\n",
       "       'total sulfur dioxide', 'density', 'pH', 'sulphates', 'alcohol',\n",
       "       'quality', 'is red', 'quality label', 'quality label encoded',\n",
       "       'sugar/acidity', 'sulphates ratio'],\n",
       "      dtype='object')"
      ]
     },
     "execution_count": 769,
     "metadata": {},
     "output_type": "execute_result"
    }
   ],
   "source": [
    "# Chack all the columns we have to point out which to drop\n",
    "df.columns"
   ]
  },
  {
   "cell_type": "code",
   "execution_count": 770,
   "id": "a830a560",
   "metadata": {},
   "outputs": [
    {
     "name": "stdout",
     "output_type": "stream",
     "text": [
      "[6 5 7 8 4 3 9]\n",
      "6    2836\n",
      "5    2138\n",
      "7    1079\n",
      "4     216\n",
      "8     193\n",
      "3      30\n",
      "9       5\n",
      "Name: quality, dtype: int64\n",
      "                            OLS Regression Results                            \n",
      "==============================================================================\n",
      "Dep. Variable:                quality   R-squared:                       0.293\n",
      "Model:                            OLS   Adj. R-squared:                  0.291\n",
      "Method:                 Least Squares   F-statistic:                     153.7\n",
      "Date:                Thu, 05 Jun 2025   Prob (F-statistic):               0.00\n",
      "Time:                        05:16:46   Log-Likelihood:                -5807.4\n",
      "No. Observations:                5197   AIC:                         1.164e+04\n",
      "Df Residuals:                    5182   BIC:                         1.174e+04\n",
      "Df Model:                          14                                         \n",
      "Covariance Type:            nonrobust                                         \n",
      "========================================================================================\n",
      "                           coef    std err          t      P>|t|      [0.025      0.975]\n",
      "----------------------------------------------------------------------------------------\n",
      "const                   77.2344     15.920      4.851      0.000      46.025     108.444\n",
      "fixed acidity            0.0676      0.018      3.844      0.000       0.033       0.102\n",
      "volatile acidity        -1.0768      0.109     -9.842      0.000      -1.291      -0.862\n",
      "citric acid              0.0320      0.091      0.352      0.724      -0.146       0.210\n",
      "residual sugar           0.0159      0.009      1.746      0.081      -0.002       0.034\n",
      "chlorides               -0.0593      0.510     -0.116      0.907      -1.059       0.940\n",
      "free sulfur dioxide      0.0049      0.001      5.644      0.000       0.003       0.007\n",
      "total sulfur dioxide    -0.0013      0.000     -3.524      0.000      -0.002      -0.001\n",
      "density                -76.5715     16.172     -4.735      0.000    -108.275     -44.868\n",
      "pH                       0.3760      0.102      3.699      0.000       0.177       0.575\n",
      "sulphates                0.5706      0.126      4.537      0.000       0.324       0.817\n",
      "alcohol                  0.2523      0.020     12.427      0.000       0.213       0.292\n",
      "is red                   0.3016      0.066      4.548      0.000       0.172       0.432\n",
      "sugar/acidity            0.0100      0.001      7.017      0.000       0.007       0.013\n",
      "sulphates ratio          0.0089      0.004      2.049      0.041       0.000       0.017\n",
      "==============================================================================\n",
      "Omnibus:                      130.520   Durbin-Watson:                   2.034\n",
      "Prob(Omnibus):                  0.000   Jarque-Bera (JB):              309.798\n",
      "Skew:                          -0.027   Prob(JB):                     5.35e-68\n",
      "Kurtosis:                       4.195   Cond. No.                     3.00e+05\n",
      "==============================================================================\n",
      "\n",
      "Notes:\n",
      "[1] Standard Errors assume that the covariance matrix of the errors is correctly specified.\n",
      "[2] The condition number is large,  3e+05. This might indicate that there are\n",
      "strong multicollinearity or other numerical problems.\n"
     ]
    }
   ],
   "source": [
    "# Select the independet variables as X\n",
    "X = df.drop(['type','quality', 'quality label','quality label encoded'], axis = 1)\n",
    "y = df['quality']\n",
    "\n",
    "# Here we are printing out to see total unique values of y yo ensure we are not using binary data in linear regression\n",
    "print(y.unique())\n",
    "print(y.value_counts())\n",
    "\n",
    "\n",
    "# Split the Dataset into Training and testing set(80/20 split)\n",
    "X_train, X_test, y_train, y_test = train_test_split(X, y, test_size = 0.2,shuffle = True,random_state = 42)\n",
    "\n",
    "# Adding a Constant term for the Intercept\n",
    "X_train = sm.add_constant(X_train)\n",
    "X_test = sm.add_constant(X_test)\n",
    "\n",
    "# Fitting model\n",
    "model = sm.OLS(y_train, X_train).fit()\n",
    "print(model.summary(alpha = 0.05))"
   ]
  },
  {
   "cell_type": "markdown",
   "id": "8b9217b4",
   "metadata": {},
   "source": [
    "About 63% of variation quality is explained by the 14 predivtors\n",
    "\n",
    "F statistics of the model =163.3 and p< 0.001 making the model statistically significant as atleast one feature is significantly related to quality\n",
    "\n",
    "most significant cols are\n",
    "` 'free sulfur dioxide', 'total sulfur dioxide', 'sulphates', 'alcohol','volatile acidity'\n",
    "    'sugar/acidity' `"
   ]
  },
  {
   "cell_type": "code",
   "execution_count": 790,
   "id": "20159e04",
   "metadata": {},
   "outputs": [
    {
     "data": {
      "text/html": [
       "<div>\n",
       "<style scoped>\n",
       "    .dataframe tbody tr th:only-of-type {\n",
       "        vertical-align: middle;\n",
       "    }\n",
       "\n",
       "    .dataframe tbody tr th {\n",
       "        vertical-align: top;\n",
       "    }\n",
       "\n",
       "    .dataframe thead th {\n",
       "        text-align: right;\n",
       "    }\n",
       "</style>\n",
       "<table border=\"1\" class=\"dataframe\">\n",
       "  <thead>\n",
       "    <tr style=\"text-align: right;\">\n",
       "      <th></th>\n",
       "      <th>feature</th>\n",
       "      <th>VIF</th>\n",
       "    </tr>\n",
       "  </thead>\n",
       "  <tbody>\n",
       "    <tr>\n",
       "      <th>0</th>\n",
       "      <td>const</td>\n",
       "      <td>2.493351e+06</td>\n",
       "    </tr>\n",
       "    <tr>\n",
       "      <th>8</th>\n",
       "      <td>density</td>\n",
       "      <td>2.313670e+01</td>\n",
       "    </tr>\n",
       "    <tr>\n",
       "      <th>4</th>\n",
       "      <td>residual sugar</td>\n",
       "      <td>1.759993e+01</td>\n",
       "    </tr>\n",
       "    <tr>\n",
       "      <th>12</th>\n",
       "      <td>sugar/acidity</td>\n",
       "      <td>8.409603e+00</td>\n",
       "    </tr>\n",
       "    <tr>\n",
       "      <th>14</th>\n",
       "      <td>is red</td>\n",
       "      <td>7.665599e+00</td>\n",
       "    </tr>\n",
       "    <tr>\n",
       "      <th>11</th>\n",
       "      <td>alcohol</td>\n",
       "      <td>5.742454e+00</td>\n",
       "    </tr>\n",
       "    <tr>\n",
       "      <th>1</th>\n",
       "      <td>fixed acidity</td>\n",
       "      <td>5.079287e+00</td>\n",
       "    </tr>\n",
       "    <tr>\n",
       "      <th>7</th>\n",
       "      <td>total sulfur dioxide</td>\n",
       "      <td>4.126365e+00</td>\n",
       "    </tr>\n",
       "    <tr>\n",
       "      <th>13</th>\n",
       "      <td>sulphates ratio</td>\n",
       "      <td>3.644999e+00</td>\n",
       "    </tr>\n",
       "    <tr>\n",
       "      <th>10</th>\n",
       "      <td>sulphates</td>\n",
       "      <td>3.408448e+00</td>\n",
       "    </tr>\n",
       "    <tr>\n",
       "      <th>2</th>\n",
       "      <td>volatile acidity</td>\n",
       "      <td>3.129067e+00</td>\n",
       "    </tr>\n",
       "    <tr>\n",
       "      <th>5</th>\n",
       "      <td>chlorides</td>\n",
       "      <td>2.863305e+00</td>\n",
       "    </tr>\n",
       "    <tr>\n",
       "      <th>9</th>\n",
       "      <td>pH</td>\n",
       "      <td>2.580068e+00</td>\n",
       "    </tr>\n",
       "    <tr>\n",
       "      <th>6</th>\n",
       "      <td>free sulfur dioxide</td>\n",
       "      <td>2.244717e+00</td>\n",
       "    </tr>\n",
       "    <tr>\n",
       "      <th>3</th>\n",
       "      <td>citric acid</td>\n",
       "      <td>1.658603e+00</td>\n",
       "    </tr>\n",
       "  </tbody>\n",
       "</table>\n",
       "</div>"
      ],
      "text/plain": [
       "                 feature           VIF\n",
       "0                  const  2.493351e+06\n",
       "8                density  2.313670e+01\n",
       "4         residual sugar  1.759993e+01\n",
       "12         sugar/acidity  8.409603e+00\n",
       "14                is red  7.665599e+00\n",
       "11               alcohol  5.742454e+00\n",
       "1          fixed acidity  5.079287e+00\n",
       "7   total sulfur dioxide  4.126365e+00\n",
       "13       sulphates ratio  3.644999e+00\n",
       "10             sulphates  3.408448e+00\n",
       "2       volatile acidity  3.129067e+00\n",
       "5              chlorides  2.863305e+00\n",
       "9                     pH  2.580068e+00\n",
       "6    free sulfur dioxide  2.244717e+00\n",
       "3            citric acid  1.658603e+00"
      ]
     },
     "execution_count": 790,
     "metadata": {},
     "output_type": "execute_result"
    }
   ],
   "source": [
    "features = [\n",
    "    'fixed acidity', 'volatile acidity', 'citric acid', 'residual sugar', 'chlorides',\n",
    "    'free sulfur dioxide', 'total sulfur dioxide', 'density', 'pH', 'sulphates', 'alcohol',\n",
    "    'sugar/acidity', 'sulphates ratio','is red'\n",
    "]\n",
    "\n",
    "# Assume df is our full dataset\n",
    "X = df[features].copy()\n",
    "# Add intercept for VIF calculation\n",
    "X = add_constant(X)  \n",
    "\n",
    "# Calculate VIF for each feature\n",
    "vif_data = pd.DataFrame()\n",
    "vif_data[\"feature\"] = X.columns\n",
    "vif_data[\"VIF\"] = [variance_inflation_factor(X.values, i) for i in range(X.shape[1])]\n",
    "\n",
    "vif_data.sort_values(\"VIF\", ascending=False)\n"
   ]
  },
  {
   "cell_type": "markdown",
   "id": "e416d93c",
   "metadata": {},
   "source": [
    "Ahigh VIF indicates level of collinearity >10\n",
    "\n",
    "Best columns according to our VFI are `'fixed acidity', 'volatile acidity', 'citric acid', 'chlorides','free sulfur dioxide', 'total sulfur dioxide', 'pH', 'sulphates', 'alcohol','sulphates ratio'\n",
    "    `"
   ]
  },
  {
   "cell_type": "code",
   "execution_count": 772,
   "id": "c94b5d02",
   "metadata": {},
   "outputs": [
    {
     "name": "stdout",
     "output_type": "stream",
     "text": [
      "\n",
      "Root Mean Squared Error for Baseline Model: 0.69\n"
     ]
    }
   ],
   "source": [
    "y_pred = model.predict(X_test)\n",
    "rmse = mean_squared_error(y_test, y_pred,squared = False)\n",
    "\n",
    "print(f'\\nRoot Mean Squared Error for Baseline Model: {rmse:.2f}')"
   ]
  },
  {
   "cell_type": "markdown",
   "id": "a05ce484",
   "metadata": {},
   "source": [
    "The RMSE shows us that, on average, our model is getting the value of Y wrong by 0.69 units.'\n",
    "\n",
    "We can also plot a scatter plot between actual and predicted values to visualize how they relate to each other."
   ]
  },
  {
   "cell_type": "markdown",
   "id": "530a0527",
   "metadata": {},
   "source": [
    "### 4.1.2 Normalizing and Standardizing important Features"
   ]
  },
  {
   "cell_type": "code",
   "execution_count": 800,
   "id": "439d35fe",
   "metadata": {},
   "outputs": [],
   "source": [
    "#Normalize using Standard scaler\n",
    "cols = ['fixed acidity','volatile acidity','citric acid','residual sugar','chlorides','free sulfur dioxide','total sulfur dioxide','density', 'pH','sulphates','alcohol']\n",
    "\n",
    "scaler = StandardScaler()\n",
    "X = df[cols]\n",
    "Xscaled = scaler.fit_transform(X)\n",
    "\n",
    "#convert the scaled array into df with otiginal columns\n",
    "XscaledDf = pd.DataFrame(Xscaled, columns=cols)"
   ]
  },
  {
   "cell_type": "markdown",
   "id": "81e31075",
   "metadata": {},
   "source": [
    "Normalized the data to help improve the convergence rate during the optimization process, and also prevents features with very large variances from exerting excessive influence during model training."
   ]
  },
  {
   "cell_type": "markdown",
   "id": "a6556556",
   "metadata": {},
   "source": [
    "### 4.1.2 Ridge and Lasso Regresion"
   ]
  },
  {
   "cell_type": "code",
   "execution_count": 801,
   "id": "bac4cf45",
   "metadata": {},
   "outputs": [
    {
     "name": "stdout",
     "output_type": "stream",
     "text": [
      "Ridge RMSE: 0.6904646840553617\n"
     ]
    }
   ],
   "source": [
    "# Ridge Regression\n",
    "X_train, X_test, y_train, y_test = train_test_split(XscaledDf, df['quality'], test_size=0.2, random_state=42)\n",
    "\n",
    "ridge = Ridge(alpha=1.0)\n",
    "ridge.fit(X_train, y_train)\n",
    "ridge_preds = ridge.predict(X_test)\n",
    "print('Ridge RMSE:', mean_squared_error(y_test, ridge_preds, squared=False))"
   ]
  },
  {
   "cell_type": "markdown",
   "id": "bc1ce4b2",
   "metadata": {},
   "source": [
    "The RMSE shows us that, on average, our model is getting the value of Y wrong by 0.69 units."
   ]
  },
  {
   "cell_type": "code",
   "execution_count": 802,
   "id": "dcda3fa0",
   "metadata": {},
   "outputs": [
    {
     "name": "stdout",
     "output_type": "stream",
     "text": [
      "Lasso RMSE: 0.7214077003865115\n"
     ]
    }
   ],
   "source": [
    "# Lasso Regression\n",
    "X_train, X_test, y_train, y_test = train_test_split(XscaledDf, df['quality'], test_size=0.2, random_state=42)\n",
    "lasso = Lasso(alpha=0.1)\n",
    "lasso.fit(X_train, y_train)\n",
    "lasso_preds = lasso.predict(X_test)\n",
    "print('Lasso RMSE:', mean_squared_error(y_test, lasso_preds, squared=False))"
   ]
  },
  {
   "cell_type": "markdown",
   "id": "892774e7",
   "metadata": {},
   "source": [
    "The RMSE shows us that, on average, our model is getting the value of Y wrong by 0.72 units."
   ]
  },
  {
   "cell_type": "markdown",
   "id": "ca1fa2b6",
   "metadata": {},
   "source": [
    "## 4.2 Classification"
   ]
  },
  {
   "cell_type": "code",
   "execution_count": 803,
   "id": "b3a88301",
   "metadata": {},
   "outputs": [],
   "source": [
    "#Normalize using Standard scaler for logistic regresiion as it requires scaling(data is not normally distributed)\n",
    "y = df[\"quality label encoded\"]\n",
    "\n",
    "# we select independent variable\n",
    "x = df.drop([\"quality\", \"type\",'is red', \"quality label\",\"quality label encoded\"], axis=1)\n",
    "\n",
    "# x_train, x_test, y_train, y_test = train_test_split(x, y,test_size = 0.2,shuffle = True,random_state = 1)\n",
    "\n",
    "# normalize = MinMaxScaler(feature_range = (0, 1))\n",
    "# normalize.fit(x_train)\n",
    "# x_train = normalize.transform(x_train)\n",
    "# x_test = normalize.transform(x_test)"
   ]
  },
  {
   "cell_type": "markdown",
   "id": "cd9e19dc",
   "metadata": {},
   "source": [
    "Standardizing the features around the center and 0 with a standard deviation of 1 is important when we compare measurements that have different units. \n",
    "But we will not use 'StandardScaler', because our dataset is not normally distributed. "
   ]
  },
  {
   "cell_type": "markdown",
   "id": "33107c8e",
   "metadata": {},
   "source": [
    "### 4.2.1 Logostic Regression Model"
   ]
  },
  {
   "cell_type": "markdown",
   "id": "71786e12",
   "metadata": {},
   "source": [
    "We will use logistic regresssion to predict the quality of wine and classify it into low medium or high"
   ]
  },
  {
   "cell_type": "markdown",
   "id": "ac790c09",
   "metadata": {},
   "source": [
    "#### 4.2.1.1 Apply `SMOTE`"
   ]
  },
  {
   "cell_type": "code",
   "execution_count": 804,
   "id": "ed903439",
   "metadata": {},
   "outputs": [
    {
     "name": "stdout",
     "output_type": "stream",
     "text": [
      "Before SMOTE: Counter({0: 4176, 1: 1021})\n",
      "After SMOTE: Counter({0: 4176, 1: 4176})\n"
     ]
    }
   ],
   "source": [
    "# Stratify is important to preserve class balance\n",
    "y = df[\"quality label encoded\"]\n",
    "\n",
    "# we select independent variable\n",
    "X = df.drop([\"quality\", \"type\",'is red', \"quality label\",\"quality label encoded\"], axis=1)\n",
    "\n",
    "X_train, X_test, y_train, y_test = train_test_split(X, y,test_size=0.2,random_state=42,stratify=y)\n",
    "sm = SMOTE(random_state=42)\n",
    "X_train_res, y_train_res = sm.fit_resample(X_train, y_train)\n",
    "\n",
    "print(\"Before SMOTE:\", Counter(y_train))\n",
    "print(\"After SMOTE:\", Counter(y_train_res))"
   ]
  },
  {
   "cell_type": "markdown",
   "id": "64d6a0d2",
   "metadata": {},
   "source": [
    "O is the majority class hence 4176 and 1 the minority class with 1021 indicating class imbalance.\n",
    "\n",
    "we use `SMOTE` an oversampling technique on the minority class synthetically no duplicates.\n",
    "\n",
    "SEcond output shows balanced data with 4176 samples each.\n",
    "\n",
    "It helps:\n",
    "- improve recall and F1 score for the minority class\n",
    "- Make metrics reliable eg ROC AUC\n",
    "- Prent bias"
   ]
  },
  {
   "cell_type": "markdown",
   "id": "2a29bf3b",
   "metadata": {},
   "source": [
    "#### 4.2.1.2 Model"
   ]
  },
  {
   "cell_type": "code",
   "execution_count": 805,
   "id": "f8acf5a6",
   "metadata": {},
   "outputs": [
    {
     "name": "stdout",
     "output_type": "stream",
     "text": [
      "              precision    recall  f1-score   support\n",
      "\n",
      "         low       0.93      0.70      0.80      1044\n",
      "        high       0.39      0.78      0.52       256\n",
      "\n",
      "   micro avg       0.72      0.72      0.72      1300\n",
      "   macro avg       0.44      0.49      0.44      1300\n",
      "weighted avg       0.82      0.72      0.75      1300\n",
      "\n"
     ]
    }
   ],
   "source": [
    "# With class weights\n",
    "logisticreg = LogisticRegression(max_iter=1000, class_weight='balanced', random_state=42)\n",
    "logisticreg.fit(X_train_res, y_train_res)\n",
    "\n",
    "y_pred = logisticreg.predict(X_test)\n",
    "print(classification_report(y_test, y_pred,labels=[0, 1, 2], target_names=['low', 'high'])) "
   ]
  },
  {
   "cell_type": "markdown",
   "id": "7aeb7e97",
   "metadata": {},
   "source": [
    "1. Precision(many FP)\n",
    "- 93% of predicted low wines were actually low.\n",
    "- Only 39% of predicted high wines were actually high.\n",
    "2. Recall(few FN)\n",
    "- 70% of actual low wines were correctly identified.\n",
    "- 78% of actual high wines were correctly identified.\n",
    "3. F1 Score shows moderate performance in class high\n",
    "\n",
    "micro avg is the overall average of all classes"
   ]
  },
  {
   "cell_type": "markdown",
   "id": "f93ee9ab",
   "metadata": {},
   "source": [
    "#### 4.2.1.3 Model Evaluation"
   ]
  },
  {
   "cell_type": "code",
   "execution_count": 806,
   "id": "2b567611",
   "metadata": {},
   "outputs": [
    {
     "data": {
      "image/png": "[encoded data removed]",
      "text/plain": [
       "<Figure size 432x360 with 2 Axes>"
      ]
     },
     "metadata": {
      "needs_background": "light"
     },
     "output_type": "display_data"
    }
   ],
   "source": [
    "# Compute confusion matrix\n",
    "cm = confusion_matrix(y_test, y_pred, labels=[0, 1])\n",
    "\n",
    "# Set class labels\n",
    "classNames = ['low', 'high']\n",
    "\n",
    "# Plot confusion matrix using seaborn\n",
    "plt.figure(figsize=(6, 5))\n",
    "sns.heatmap(cm, annot=True, fmt='d', cmap='Blues', xticklabels=classNames, yticklabels=classNames)\n",
    "\n",
    "plt.title('Logistic Confusion Matrix')\n",
    "plt.xlabel('Predicted')\n",
    "plt.ylabel('True')\n",
    "plt.show()"
   ]
  },
  {
   "cell_type": "markdown",
   "id": "a4d6d364",
   "metadata": {},
   "source": [
    "- 735 samples were correctly classified as low.\n",
    "- 199 samples were correctly classified as high.\n",
    "- 309 low samples were wrongly predicted as high.\n",
    "- 57 high samples were wrongly predicted as low."
   ]
  },
  {
   "cell_type": "markdown",
   "id": "90c5b8ed",
   "metadata": {},
   "source": [
    "### 4.2.2 Decision Tree Model"
   ]
  },
  {
   "cell_type": "markdown",
   "id": "1f9828e7",
   "metadata": {},
   "source": [
    "#### 4.2.2.1 Model"
   ]
  },
  {
   "cell_type": "code",
   "execution_count": 780,
   "id": "d7f58c2e",
   "metadata": {},
   "outputs": [
    {
     "name": "stdout",
     "output_type": "stream",
     "text": [
      "              precision    recall  f1-score   support\n",
      "\n",
      "         low       0.90      0.91      0.90      1044\n",
      "        high       0.61      0.58      0.59       256\n",
      "\n",
      "    accuracy                           0.84      1300\n",
      "   macro avg       0.75      0.74      0.75      1300\n",
      "weighted avg       0.84      0.84      0.84      1300\n",
      "\n"
     ]
    }
   ],
   "source": [
    "tree = DecisionTreeClassifier(random_state=42, class_weight='balanced')\n",
    "tree.fit(X_train, y_train)\n",
    "y_pred_tree = tree.predict(X_test)\n",
    "\n",
    "print(classification_report(y_test, y_pred_tree, target_names=['low', 'high']))"
   ]
  },
  {
   "cell_type": "markdown",
   "id": "0db2cd2d",
   "metadata": {},
   "source": [
    "1. Precision\n",
    "- 90% of predicted low wines were actually low.\n",
    "- 61% of predicted high wines were actually high.\n",
    "2. Recall(few FN)\n",
    "- 91% of actual low wines were correctly identified.\n",
    "- 58% of actual high wines were correctly identified.\n",
    "3. F1 Score shows moderate performance in class high\n",
    "\n",
    "micro avg is the overall average of all classes"
   ]
  },
  {
   "cell_type": "code",
   "execution_count": 781,
   "id": "3476c3cf",
   "metadata": {},
   "outputs": [],
   "source": [
    "#### 4.2.2.2 Model Evaluation"
   ]
  },
  {
   "cell_type": "code",
   "execution_count": 782,
   "id": "e18339ce",
   "metadata": {},
   "outputs": [
    {
     "data": {
      "image/png": "[encoded data removed]",
      "text/plain": [
       "<Figure size 432x360 with 2 Axes>"
      ]
     },
     "metadata": {
      "needs_background": "light"
     },
     "output_type": "display_data"
    }
   ],
   "source": [
    "# Compute confusion matrix\n",
    "cm = confusion_matrix(y_test, y_pred_tree, labels=[0, 1])\n",
    "\n",
    "# Set class labels\n",
    "classNames = ['low', 'high']\n",
    "\n",
    "# Plot confusion matrix using seaborn\n",
    "plt.figure(figsize=(6, 5))\n",
    "sns.heatmap(cm, annot=True, fmt='d', cmap='Blues', xticklabels=classNames, yticklabels=classNames)\n",
    "\n",
    "plt.title('Decision Tree Confusion Matrix')\n",
    "plt.xlabel('Predicted')\n",
    "plt.ylabel('True')\n",
    "plt.tight_layout()\n",
    "plt.show()"
   ]
  },
  {
   "cell_type": "markdown",
   "id": "5e0e00cf",
   "metadata": {},
   "source": [
    "- 950 samples were correctly classified as low.\n",
    "- 148 samples were correctly classified as high.\n",
    "- 108 low samples were wrongly predicted as high.\n",
    "- 94 high samples were wrongly predicted as low."
   ]
  },
  {
   "cell_type": "markdown",
   "id": "9f86d3e5",
   "metadata": {},
   "source": [
    "### 4.2.3 ROC AUC Decision Tree and Logistic regression"
   ]
  },
  {
   "cell_type": "code",
   "execution_count": 783,
   "id": "174cfb6c",
   "metadata": {},
   "outputs": [
    {
     "data": {
      "image/png": "[encoded data removed]",
      "text/plain": [
       "<Figure size 432x288 with 1 Axes>"
      ]
     },
     "metadata": {
      "needs_background": "light"
     },
     "output_type": "display_data"
    }
   ],
   "source": [
    "rocAuc = roc_auc_score(y_test, logisticreg.predict(X_test))\n",
    "\n",
    "fpr, tpr, thresholds = roc_curve(y_test, logisticreg.predict_proba(X_test)[:,1])\n",
    "plt.figure()\n",
    "plt.plot(fpr, tpr, label='AUC (area = %0.2f)' % rocAuc)\n",
    "plt.plot([0, 1], [0, 1],'r--')\n",
    "plt.xlim([0.0, 1.0])\n",
    "plt.ylim([0.0, 1.05])\n",
    "plt.xlabel('False Positive Rate')\n",
    "plt.ylabel('True Positive Rate')\n",
    "plt.legend(loc=\"lower right\")\n",
    "plt.title('ROC Logistic Regression')\n",
    "plt.show()"
   ]
  },
  {
   "cell_type": "markdown",
   "id": "8c6df9ef",
   "metadata": {},
   "source": [
    "This indicates that logistic regression is better than random guessing as it can distinguish 74% of the data into the classes correctly."
   ]
  },
  {
   "cell_type": "code",
   "execution_count": 784,
   "id": "8bf35030",
   "metadata": {},
   "outputs": [
    {
     "data": {
      "image/png": "[encoded data removed]",
      "text/plain": [
       "<Figure size 432x288 with 1 Axes>"
      ]
     },
     "metadata": {
      "needs_background": "light"
     },
     "output_type": "display_data"
    }
   ],
   "source": [
    "rocAuc = roc_auc_score(y_test, tree.predict(X_test))\n",
    "\n",
    "fpr, tpr, thresholds = roc_curve(y_test, tree.predict_proba(X_test)[:,1])\n",
    "plt.figure()\n",
    "plt.plot(fpr, tpr, label='AUC (area = %0.2f)' % rocAuc)\n",
    "plt.plot([0, 1], [0, 1],'r--')\n",
    "plt.xlim([0.0, 1.0])\n",
    "plt.ylim([0.0, 1.05])\n",
    "plt.xlabel('False Positive Rate')\n",
    "plt.ylabel('True Positive Rate')\n",
    "plt.legend(loc=\"lower right\")\n",
    "plt.title('ROC Decision Tree')\n",
    "plt.show()"
   ]
  },
  {
   "cell_type": "markdown",
   "id": "211a650f",
   "metadata": {},
   "source": [
    "This shows an improved ability ove gbm for the class target above. 74% indicates a better calibration on this model."
   ]
  },
  {
   "cell_type": "markdown",
   "id": "7b417c39",
   "metadata": {},
   "source": [
    "### 4.2.4 Gradient Boosting Classifier"
   ]
  },
  {
   "cell_type": "code",
   "execution_count": 814,
   "id": "b5cd9cb7",
   "metadata": {},
   "outputs": [
    {
     "name": "stdout",
     "output_type": "stream",
     "text": [
      "Confusion Matrix:\n",
      "[[1002   42]\n",
      " [ 157   99]]\n",
      "\n",
      "Classification Report:\n",
      "              precision    recall  f1-score   support\n",
      "\n",
      "         low       0.86      0.96      0.91      1044\n",
      "        high       0.70      0.39      0.50       256\n",
      "\n",
      "    accuracy                           0.85      1300\n",
      "   macro avg       0.78      0.67      0.70      1300\n",
      "weighted avg       0.83      0.85      0.83      1300\n",
      "\n"
     ]
    }
   ],
   "source": [
    "gbm= GradientBoostingClassifier(n_estimators=100,learning_rate=0.1,max_depth=3,random_state=42)\n",
    "gbm.fit(X_train, y_train)\n",
    "\n",
    "# Predict on the test set\n",
    "y_pred_gbm = gbm.predict(X_test)\n",
    "\n",
    "# Evaluate the model\n",
    "print(\"Confusion Matrix:\")\n",
    "print(confusion_matrix(y_test, y_pred_gbm))\n",
    "\n",
    "print(\"\\nClassification Report:\")\n",
    "print(classification_report(y_test, y_pred_gbm, labels=[0, 1], target_names=['low', 'high']))"
   ]
  },
  {
   "cell_type": "markdown",
   "id": "2c50300e",
   "metadata": {},
   "source": [
    "1. Precision\n",
    "- 86% of predicted low wines were actually low.\n",
    "- 70% of predicted high wines were actually high.\n",
    "2. Recall(few FN)\n",
    "- 96% of actual low wines were correctly identified.\n",
    "- 96% of actual high wines were correctly identified.\n",
    "3. F1 Score shows moderate performance in class high\n",
    "\n",
    "micro avg is the overall average of all classes"
   ]
  },
  {
   "cell_type": "code",
   "execution_count": 812,
   "id": "2f79efff",
   "metadata": {},
   "outputs": [
    {
     "data": {
      "image/png": "[encoded data removed]",
      "text/plain": [
       "<Figure size 432x360 with 2 Axes>"
      ]
     },
     "metadata": {
      "needs_background": "light"
     },
     "output_type": "display_data"
    }
   ],
   "source": [
    "# Compute confusion matrix\n",
    "cm = confusion_matrix(y_test, y_pred_gbm, labels=[0, 1])\n",
    "\n",
    "# Set class labels\n",
    "classNames = ['low', 'high']\n",
    "\n",
    "# Plot confusion matrix using seaborn\n",
    "plt.figure(figsize=(6, 5))\n",
    "sns.heatmap(cm, annot=True, fmt='d', cmap='Blues', xticklabels=classNames, yticklabels=classNames)\n",
    "\n",
    "plt.title('Decision Tree Confusion Matrix')\n",
    "plt.xlabel('Predicted')\n",
    "plt.ylabel('True')\n",
    "plt.tight_layout()\n",
    "plt.show()"
   ]
  },
  {
   "cell_type": "markdown",
   "id": "f3192843",
   "metadata": {},
   "source": [
    "- 1002 samples were correctly classified as low.\n",
    "- 99 samples were correctly classified as high.\n",
    "- 157 low samples were wrongly predicted as high.\n",
    "- 42 high samples were wrongly predicted as low."
   ]
  },
  {
   "cell_type": "code",
   "execution_count": null,
   "id": "cf4f9878",
   "metadata": {},
   "outputs": [
    {
     "data": {
      "image/png": "[encoded data removed]",
      "text/plain": [
       "<Figure size 432x288 with 1 Axes>"
      ]
     },
     "metadata": {
      "needs_background": "light"
     },
     "output_type": "display_data"
    }
   ],
   "source": [
    "rocAuc = roc_auc_score(y_test, gbm.predict(X_test))\n",
    "\n",
    "fpr, tpr, thresholds = roc_curve(y_test, gbm.predict_proba(X_test)[:,1])\n",
    "plt.figure()\n",
    "plt.plot(fpr, tpr, label='AUC (area = %0.2f)' % rocAuc)\n",
    "plt.plot([0, 1], [0, 1],'r--')\n",
    "plt.xlim([0.0, 1.0])\n",
    "plt.ylim([0.0, 1.05])\n",
    "plt.xlabel('False Positive Rate')\n",
    "plt.ylabel('True Positive Rate')\n",
    "plt.legend(loc=\"lower right\")\n",
    "plt.title('ROC gbm')\n",
    "plt.show()"
   ]
  },
  {
   "cell_type": "markdown",
   "id": "f7584a13",
   "metadata": {},
   "source": [
    "This indicates that gbm model is better than random guessing as it can distinguish 67% of the data into the classes correctly."
   ]
  },
  {
   "cell_type": "code",
   "execution_count": 826,
   "id": "35387bc3",
   "metadata": {},
   "outputs": [
    {
     "data": {
      "image/png": "[encoded data removed]",
      "text/plain": [
       "<Figure size 576x360 with 1 Axes>"
      ]
     },
     "metadata": {
      "needs_background": "light"
     },
     "output_type": "display_data"
    },
    {
     "data": {
      "image/png": "[encoded data removed]",
      "text/plain": [
       "<Figure size 576x360 with 1 Axes>"
      ]
     },
     "metadata": {
      "needs_background": "light"
     },
     "output_type": "display_data"
    }
   ],
   "source": [
    "# Get feature importances\n",
    "importances = tree.feature_importances_\n",
    "feature_names = X_train.columns\n",
    "\n",
    "# Create a DataFrame for better plotting\n",
    "importance_df = pd.DataFrame({\n",
    "    'Feature': feature_names,\n",
    "    'Importance': importances\n",
    "}).sort_values(by='Importance', ascending=False)\n",
    "\n",
    "# Plot the top features\n",
    "plt.figure(figsize=(8, 5))\n",
    "sns.barplot(data=importance_df, x='Importance', y='Feature', palette='viridis')\n",
    "plt.title('Feature Importance from Decision Tree')\n",
    "plt.tight_layout()\n",
    "plt.show()\n",
    "\n",
    "\n",
    "\n",
    "# Get feature importances\n",
    "importances = gbm.feature_importances_\n",
    "feature_names = X_train.columns\n",
    "\n",
    "# Create a DataFrame for better plotting\n",
    "importance_df = pd.DataFrame({\n",
    "    'Feature': feature_names,\n",
    "    'Importance': importances\n",
    "}).sort_values(by='Importance', ascending=False)\n",
    "\n",
    "# Plot the top features\n",
    "plt.figure(figsize=(8, 5))\n",
    "sns.barplot(data=importance_df, x='Importance', y='Feature', palette='viridis')\n",
    "plt.title('Feature Importance from Gradient Boosting Classifier')\n",
    "plt.tight_layout()\n",
    "plt.show()\n"
   ]
  },
  {
   "cell_type": "markdown",
   "id": "2a1db074",
   "metadata": {},
   "source": [
    "The two images above indicate to us that `alcohol` is the feature tha affects the data quality most"
   ]
  },
  {
   "cell_type": "markdown",
   "id": "b05d377a",
   "metadata": {},
   "source": [
    "# 6.RECOMMENDATION AND CONCLUSION"
   ]
  },
  {
   "cell_type": "markdown",
   "id": "5f2982c8",
   "metadata": {},
   "source": [
    "## 6.1 Objective Summary \n",
    "1. Chemical Properties Influencing Wine Quality\n",
    "Using feature impotance and correlation matrix the ouput vividly indicatd the alcohol has the strongest correlation \n",
    "- Higher alcohol levels are positively correlated with quality.\n",
    "- Volatile Acidity higher levels resulti to lower quality.\n",
    "- Sulphates higher values indicate higher quality.\n",
    "- Citric acid poasitive correlation.\n",
    "- Density and Regular Sugar Negatively correlated with higher wine quality.\n",
    "\n",
    "2. Creating a classification model for predicting wine quality to be either high or low quality.\n",
    "- Here converted quality into binary for those >=7 high quality and <7 low quality.\n",
    "- Models used Logistic regression, Decision Tree and Gradient boosting.\n",
    "\n",
    "3. Role of Wine Type in Quality\n",
    "- White wines tend to be more produced and also indicate higher quality than red wines.\n",
    "- It is also indicated m=being moderate meaning it is not a primary detaminant of the quality.\n",
    "\n",
    "4. Model performance comparison.\n",
    "\n",
    "\n",
    "| Model         | Accuracy | Precision | Recall | F1 Score | AUC  |\n",
    "|---------------|----------|-----------|--------|----------|------|\n",
    "| Logistic      | 72%      | 0.39      | 0.78   | 0.52     | 0.72 |\n",
    "| Decision Tree | 84%      | 0.61      | 0.58   | 0.59     | 0.74 |\n",
    "| GBM           | 85%      | 0.70      | 0.39   | 0.50     | 0.67 |\n",
    "\n",
    "From this table we can conclude that the Decision tree provided the best model accross all metrcs.\n"
   ]
  },
  {
   "cell_type": "markdown",
   "id": "fae56bd1",
   "metadata": {},
   "source": [
    "## 6.2 Recommendation\n",
    "1. Perform external validations using other datasets \n",
    "2. One can enhance quality lables by adding a medium class.\n",
    "3. Reclass or reweight to handle the class imbalance orrectly"
   ]
  },
  {
   "cell_type": "markdown",
   "id": "2ce18b29",
   "metadata": {},
   "source": [
    "## 6.3 Limitation\n",
    "1. Dataset Imbalance on Fewer higher qality wines and more low quality wines create a class imbalance.\n",
    "2. No external test data was used to test the model"
   ]
  },
  {
   "cell_type": "markdown",
   "id": "1e928d69",
   "metadata": {},
   "source": [
    "## 6.3 Conclusion\n",
    "1. Alcohol and volatile acidity play a crucial role in predicting wine quality.This shows that they play a great role in the quality of the data.\n",
    "2. Decision tree provide the most balanced classification.\n",
    "3. Wine type should be included as it has moderate effect on quality."
   ]
  }
 ],
 "metadata": {
  "kernelspec": {
   "display_name": "learn-env",
   "language": "python",
   "name": "python3"
  },
  "language_info": {
   "codemirror_mode": {
    "name": "ipython",
    "version": 3
   },
   "file_extension": ".py",
   "mimetype": "text/x-python",
   "name": "python",
   "nbconvert_exporter": "python",
   "pygments_lexer": "ipython3",
   "version": "3.8.5"
  }
 },
 "nbformat": 4,
 "nbformat_minor": 5
}
